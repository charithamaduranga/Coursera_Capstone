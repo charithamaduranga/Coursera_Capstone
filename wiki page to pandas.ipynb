{
    "cells": [
        {
            "cell_type": "markdown",
            "metadata": {
                "collapsed": true
            },
            "source": "# Segmenting and Clustering Neighborhoods in Toronto\n\n## Part 1: Converting wiki page to DataFrame"
        },
        {
            "cell_type": "code",
            "execution_count": 1,
            "metadata": {},
            "outputs": [],
            "source": "import pandas as pd\nimport numpy as np\nimport requests"
        },
        {
            "cell_type": "code",
            "execution_count": 2,
            "metadata": {},
            "outputs": [],
            "source": "url = 'https://en.wikipedia.org/wiki/List_of_postal_codes_of_Canada:_M' #url to the wiki site\ndf_list = pd.read_html(url) #get the list of data_frames from website\ndf = df_list[0] #we just want the first dataframe"
        },
        {
            "cell_type": "code",
            "execution_count": 3,
            "metadata": {},
            "outputs": [
                {
                    "data": {
                        "text/html": "<div>\n<style scoped>\n    .dataframe tbody tr th:only-of-type {\n        vertical-align: middle;\n    }\n\n    .dataframe tbody tr th {\n        vertical-align: top;\n    }\n\n    .dataframe thead th {\n        text-align: right;\n    }\n</style>\n<table border=\"1\" class=\"dataframe\">\n  <thead>\n    <tr style=\"text-align: right;\">\n      <th></th>\n      <th>Postcode</th>\n      <th>Borough</th>\n      <th>Neighbourhood</th>\n    </tr>\n  </thead>\n  <tbody>\n    <tr>\n      <th>0</th>\n      <td>M1A</td>\n      <td>Not assigned</td>\n      <td>Not assigned</td>\n    </tr>\n    <tr>\n      <th>1</th>\n      <td>M2A</td>\n      <td>Not assigned</td>\n      <td>Not assigned</td>\n    </tr>\n    <tr>\n      <th>2</th>\n      <td>M3A</td>\n      <td>North York</td>\n      <td>Parkwoods</td>\n    </tr>\n    <tr>\n      <th>3</th>\n      <td>M4A</td>\n      <td>North York</td>\n      <td>Victoria Village</td>\n    </tr>\n    <tr>\n      <th>4</th>\n      <td>M5A</td>\n      <td>Downtown Toronto</td>\n      <td>Harbourfront</td>\n    </tr>\n  </tbody>\n</table>\n</div>",
                        "text/plain": "  Postcode           Borough     Neighbourhood\n0      M1A      Not assigned      Not assigned\n1      M2A      Not assigned      Not assigned\n2      M3A        North York         Parkwoods\n3      M4A        North York  Victoria Village\n4      M5A  Downtown Toronto      Harbourfront"
                    },
                    "execution_count": 3,
                    "metadata": {},
                    "output_type": "execute_result"
                }
            ],
            "source": "df.head()"
        },
        {
            "cell_type": "markdown",
            "metadata": {},
            "source": "good now we have export table into dataframe"
        },
        {
            "cell_type": "code",
            "execution_count": 4,
            "metadata": {},
            "outputs": [
                {
                    "data": {
                        "text/plain": "(287, 3)"
                    },
                    "execution_count": 4,
                    "metadata": {},
                    "output_type": "execute_result"
                }
            ],
            "source": "df.shape"
        },
        {
            "cell_type": "code",
            "execution_count": 5,
            "metadata": {},
            "outputs": [
                {
                    "data": {
                        "text/plain": "Not assigned        77\nEtobicoke           44\nNorth York          38\nDowntown Toronto    37\nScarborough         37\nCentral Toronto     17\nWest Toronto        13\nYork                 9\nEast Toronto         7\nEast York            6\nMississauga          1\nQueen's Park         1\nName: Borough, dtype: int64"
                    },
                    "execution_count": 5,
                    "metadata": {},
                    "output_type": "execute_result"
                }
            ],
            "source": "df.Borough.value_counts()"
        },
        {
            "cell_type": "markdown",
            "metadata": {},
            "source": "drop raws where Borough=='Not assigned'"
        },
        {
            "cell_type": "code",
            "execution_count": 6,
            "metadata": {},
            "outputs": [],
            "source": "df.drop(df[df['Borough']==\"Not assigned\"].index, axis=0, inplace=True)"
        },
        {
            "cell_type": "code",
            "execution_count": 7,
            "metadata": {},
            "outputs": [
                {
                    "data": {
                        "text/plain": "(210, 3)"
                    },
                    "execution_count": 7,
                    "metadata": {},
                    "output_type": "execute_result"
                }
            ],
            "source": "df.shape"
        },
        {
            "cell_type": "code",
            "execution_count": 8,
            "metadata": {},
            "outputs": [
                {
                    "data": {
                        "text/html": "<div>\n<style scoped>\n    .dataframe tbody tr th:only-of-type {\n        vertical-align: middle;\n    }\n\n    .dataframe tbody tr th {\n        vertical-align: top;\n    }\n\n    .dataframe thead th {\n        text-align: right;\n    }\n</style>\n<table border=\"1\" class=\"dataframe\">\n  <thead>\n    <tr style=\"text-align: right;\">\n      <th></th>\n      <th>Postcode</th>\n      <th>Borough</th>\n      <th>Neighbourhood</th>\n    </tr>\n  </thead>\n  <tbody>\n    <tr>\n      <th>2</th>\n      <td>M3A</td>\n      <td>North York</td>\n      <td>Parkwoods</td>\n    </tr>\n    <tr>\n      <th>3</th>\n      <td>M4A</td>\n      <td>North York</td>\n      <td>Victoria Village</td>\n    </tr>\n    <tr>\n      <th>4</th>\n      <td>M5A</td>\n      <td>Downtown Toronto</td>\n      <td>Harbourfront</td>\n    </tr>\n    <tr>\n      <th>5</th>\n      <td>M6A</td>\n      <td>North York</td>\n      <td>Lawrence Heights</td>\n    </tr>\n    <tr>\n      <th>6</th>\n      <td>M6A</td>\n      <td>North York</td>\n      <td>Lawrence Manor</td>\n    </tr>\n  </tbody>\n</table>\n</div>",
                        "text/plain": "  Postcode           Borough     Neighbourhood\n2      M3A        North York         Parkwoods\n3      M4A        North York  Victoria Village\n4      M5A  Downtown Toronto      Harbourfront\n5      M6A        North York  Lawrence Heights\n6      M6A        North York    Lawrence Manor"
                    },
                    "execution_count": 8,
                    "metadata": {},
                    "output_type": "execute_result"
                }
            ],
            "source": "df.head()"
        },
        {
            "cell_type": "code",
            "execution_count": 9,
            "metadata": {},
            "outputs": [
                {
                    "data": {
                        "text/html": "<div>\n<style scoped>\n    .dataframe tbody tr th:only-of-type {\n        vertical-align: middle;\n    }\n\n    .dataframe tbody tr th {\n        vertical-align: top;\n    }\n\n    .dataframe thead tr th {\n        text-align: left;\n    }\n\n    .dataframe thead tr:last-of-type th {\n        text-align: right;\n    }\n</style>\n<table border=\"1\" class=\"dataframe\">\n  <thead>\n    <tr>\n      <th></th>\n      <th colspan=\"4\" halign=\"left\">Postcode</th>\n      <th colspan=\"4\" halign=\"left\">Neighbourhood</th>\n    </tr>\n    <tr>\n      <th></th>\n      <th>count</th>\n      <th>unique</th>\n      <th>top</th>\n      <th>freq</th>\n      <th>count</th>\n      <th>unique</th>\n      <th>top</th>\n      <th>freq</th>\n    </tr>\n    <tr>\n      <th>Borough</th>\n      <th></th>\n      <th></th>\n      <th></th>\n      <th></th>\n      <th></th>\n      <th></th>\n      <th></th>\n      <th></th>\n    </tr>\n  </thead>\n  <tbody>\n    <tr>\n      <th>Central Toronto</th>\n      <td>17</td>\n      <td>9</td>\n      <td>M4V</td>\n      <td>5</td>\n      <td>17</td>\n      <td>17</td>\n      <td>North Midtown</td>\n      <td>1</td>\n    </tr>\n    <tr>\n      <th>Downtown Toronto</th>\n      <td>37</td>\n      <td>19</td>\n      <td>M5V</td>\n      <td>7</td>\n      <td>37</td>\n      <td>36</td>\n      <td>St. James Town</td>\n      <td>2</td>\n    </tr>\n    <tr>\n      <th>East Toronto</th>\n      <td>7</td>\n      <td>5</td>\n      <td>M4K</td>\n      <td>2</td>\n      <td>7</td>\n      <td>7</td>\n      <td>The Beaches West</td>\n      <td>1</td>\n    </tr>\n    <tr>\n      <th>East York</th>\n      <td>6</td>\n      <td>5</td>\n      <td>M4B</td>\n      <td>2</td>\n      <td>6</td>\n      <td>6</td>\n      <td>Woodbine Heights</td>\n      <td>1</td>\n    </tr>\n    <tr>\n      <th>Etobicoke</th>\n      <td>44</td>\n      <td>11</td>\n      <td>M8Y</td>\n      <td>8</td>\n      <td>44</td>\n      <td>44</td>\n      <td>The Queensway West</td>\n      <td>1</td>\n    </tr>\n    <tr>\n      <th>Mississauga</th>\n      <td>1</td>\n      <td>1</td>\n      <td>M7R</td>\n      <td>1</td>\n      <td>1</td>\n      <td>1</td>\n      <td>Canada Post Gateway Processing Centre</td>\n      <td>1</td>\n    </tr>\n    <tr>\n      <th>North York</th>\n      <td>38</td>\n      <td>24</td>\n      <td>M6L</td>\n      <td>3</td>\n      <td>38</td>\n      <td>38</td>\n      <td>Hillcrest Village</td>\n      <td>1</td>\n    </tr>\n    <tr>\n      <th>Queen's Park</th>\n      <td>1</td>\n      <td>1</td>\n      <td>M9A</td>\n      <td>1</td>\n      <td>1</td>\n      <td>1</td>\n      <td>Not assigned</td>\n      <td>1</td>\n    </tr>\n    <tr>\n      <th>Scarborough</th>\n      <td>37</td>\n      <td>17</td>\n      <td>M1V</td>\n      <td>4</td>\n      <td>37</td>\n      <td>37</td>\n      <td>Port Union</td>\n      <td>1</td>\n    </tr>\n    <tr>\n      <th>West Toronto</th>\n      <td>13</td>\n      <td>6</td>\n      <td>M6K</td>\n      <td>3</td>\n      <td>13</td>\n      <td>13</td>\n      <td>Dovercourt Village</td>\n      <td>1</td>\n    </tr>\n    <tr>\n      <th>York</th>\n      <td>9</td>\n      <td>5</td>\n      <td>M6M</td>\n      <td>4</td>\n      <td>9</td>\n      <td>9</td>\n      <td>Silverthorn</td>\n      <td>1</td>\n    </tr>\n  </tbody>\n</table>\n</div>",
                        "text/plain": "                 Postcode                  Neighbourhood         \\\n                    count unique  top freq         count unique   \nBorough                                                           \nCentral Toronto        17      9  M4V    5            17     17   \nDowntown Toronto       37     19  M5V    7            37     36   \nEast Toronto            7      5  M4K    2             7      7   \nEast York               6      5  M4B    2             6      6   \nEtobicoke              44     11  M8Y    8            44     44   \nMississauga             1      1  M7R    1             1      1   \nNorth York             38     24  M6L    3            38     38   \nQueen's Park            1      1  M9A    1             1      1   \nScarborough            37     17  M1V    4            37     37   \nWest Toronto           13      6  M6K    3            13     13   \nYork                    9      5  M6M    4             9      9   \n\n                                                              \n                                                    top freq  \nBorough                                                       \nCentral Toronto                           North Midtown    1  \nDowntown Toronto                         St. James Town    2  \nEast Toronto                           The Beaches West    1  \nEast York                              Woodbine Heights    1  \nEtobicoke                            The Queensway West    1  \nMississauga       Canada Post Gateway Processing Centre    1  \nNorth York                            Hillcrest Village    1  \nQueen's Park                               Not assigned    1  \nScarborough                                  Port Union    1  \nWest Toronto                         Dovercourt Village    1  \nYork                                        Silverthorn    1  "
                    },
                    "execution_count": 9,
                    "metadata": {},
                    "output_type": "execute_result"
                }
            ],
            "source": "df.groupby('Borough').describe()"
        },
        {
            "cell_type": "code",
            "execution_count": 10,
            "metadata": {},
            "outputs": [
                {
                    "data": {
                        "text/html": "<div>\n<style scoped>\n    .dataframe tbody tr th:only-of-type {\n        vertical-align: middle;\n    }\n\n    .dataframe tbody tr th {\n        vertical-align: top;\n    }\n\n    .dataframe thead tr th {\n        text-align: left;\n    }\n\n    .dataframe thead tr:last-of-type th {\n        text-align: right;\n    }\n</style>\n<table border=\"1\" class=\"dataframe\">\n  <thead>\n    <tr>\n      <th></th>\n      <th colspan=\"4\" halign=\"left\">Borough</th>\n      <th colspan=\"4\" halign=\"left\">Neighbourhood</th>\n    </tr>\n    <tr>\n      <th></th>\n      <th>count</th>\n      <th>unique</th>\n      <th>top</th>\n      <th>freq</th>\n      <th>count</th>\n      <th>unique</th>\n      <th>top</th>\n      <th>freq</th>\n    </tr>\n    <tr>\n      <th>Postcode</th>\n      <th></th>\n      <th></th>\n      <th></th>\n      <th></th>\n      <th></th>\n      <th></th>\n      <th></th>\n      <th></th>\n    </tr>\n  </thead>\n  <tbody>\n    <tr>\n      <th>M1B</th>\n      <td>2</td>\n      <td>1</td>\n      <td>Scarborough</td>\n      <td>2</td>\n      <td>2</td>\n      <td>2</td>\n      <td>Malvern</td>\n      <td>1</td>\n    </tr>\n    <tr>\n      <th>M1C</th>\n      <td>3</td>\n      <td>1</td>\n      <td>Scarborough</td>\n      <td>3</td>\n      <td>3</td>\n      <td>3</td>\n      <td>Rouge Hill</td>\n      <td>1</td>\n    </tr>\n    <tr>\n      <th>M1E</th>\n      <td>3</td>\n      <td>1</td>\n      <td>Scarborough</td>\n      <td>3</td>\n      <td>3</td>\n      <td>3</td>\n      <td>West Hill</td>\n      <td>1</td>\n    </tr>\n    <tr>\n      <th>M1G</th>\n      <td>1</td>\n      <td>1</td>\n      <td>Scarborough</td>\n      <td>1</td>\n      <td>1</td>\n      <td>1</td>\n      <td>Woburn</td>\n      <td>1</td>\n    </tr>\n    <tr>\n      <th>M1H</th>\n      <td>1</td>\n      <td>1</td>\n      <td>Scarborough</td>\n      <td>1</td>\n      <td>1</td>\n      <td>1</td>\n      <td>Cedarbrae</td>\n      <td>1</td>\n    </tr>\n    <tr>\n      <th>M1J</th>\n      <td>1</td>\n      <td>1</td>\n      <td>Scarborough</td>\n      <td>1</td>\n      <td>1</td>\n      <td>1</td>\n      <td>Scarborough Village</td>\n      <td>1</td>\n    </tr>\n    <tr>\n      <th>M1K</th>\n      <td>3</td>\n      <td>1</td>\n      <td>Scarborough</td>\n      <td>3</td>\n      <td>3</td>\n      <td>3</td>\n      <td>Kennedy Park</td>\n      <td>1</td>\n    </tr>\n    <tr>\n      <th>M1L</th>\n      <td>3</td>\n      <td>1</td>\n      <td>Scarborough</td>\n      <td>3</td>\n      <td>3</td>\n      <td>3</td>\n      <td>Golden Mile</td>\n      <td>1</td>\n    </tr>\n    <tr>\n      <th>M1M</th>\n      <td>3</td>\n      <td>1</td>\n      <td>Scarborough</td>\n      <td>3</td>\n      <td>3</td>\n      <td>3</td>\n      <td>Scarborough Village West</td>\n      <td>1</td>\n    </tr>\n    <tr>\n      <th>M1N</th>\n      <td>2</td>\n      <td>1</td>\n      <td>Scarborough</td>\n      <td>2</td>\n      <td>2</td>\n      <td>2</td>\n      <td>Cliffside West</td>\n      <td>1</td>\n    </tr>\n    <tr>\n      <th>M1P</th>\n      <td>3</td>\n      <td>1</td>\n      <td>Scarborough</td>\n      <td>3</td>\n      <td>3</td>\n      <td>3</td>\n      <td>Dorset Park</td>\n      <td>1</td>\n    </tr>\n    <tr>\n      <th>M1R</th>\n      <td>2</td>\n      <td>1</td>\n      <td>Scarborough</td>\n      <td>2</td>\n      <td>2</td>\n      <td>2</td>\n      <td>Maryvale</td>\n      <td>1</td>\n    </tr>\n    <tr>\n      <th>M1S</th>\n      <td>1</td>\n      <td>1</td>\n      <td>Scarborough</td>\n      <td>1</td>\n      <td>1</td>\n      <td>1</td>\n      <td>Agincourt</td>\n      <td>1</td>\n    </tr>\n    <tr>\n      <th>M1T</th>\n      <td>3</td>\n      <td>1</td>\n      <td>Scarborough</td>\n      <td>3</td>\n      <td>3</td>\n      <td>3</td>\n      <td>Sullivan</td>\n      <td>1</td>\n    </tr>\n    <tr>\n      <th>M1V</th>\n      <td>4</td>\n      <td>1</td>\n      <td>Scarborough</td>\n      <td>4</td>\n      <td>4</td>\n      <td>4</td>\n      <td>Steeles East</td>\n      <td>1</td>\n    </tr>\n    <tr>\n      <th>M1W</th>\n      <td>1</td>\n      <td>1</td>\n      <td>Scarborough</td>\n      <td>1</td>\n      <td>1</td>\n      <td>1</td>\n      <td>L'Amoreaux West</td>\n      <td>1</td>\n    </tr>\n    <tr>\n      <th>M1X</th>\n      <td>1</td>\n      <td>1</td>\n      <td>Scarborough</td>\n      <td>1</td>\n      <td>1</td>\n      <td>1</td>\n      <td>Upper Rouge</td>\n      <td>1</td>\n    </tr>\n    <tr>\n      <th>M2H</th>\n      <td>1</td>\n      <td>1</td>\n      <td>North York</td>\n      <td>1</td>\n      <td>1</td>\n      <td>1</td>\n      <td>Hillcrest Village</td>\n      <td>1</td>\n    </tr>\n    <tr>\n      <th>M2J</th>\n      <td>3</td>\n      <td>1</td>\n      <td>North York</td>\n      <td>3</td>\n      <td>3</td>\n      <td>3</td>\n      <td>Henry Farm</td>\n      <td>1</td>\n    </tr>\n    <tr>\n      <th>M2K</th>\n      <td>1</td>\n      <td>1</td>\n      <td>North York</td>\n      <td>1</td>\n      <td>1</td>\n      <td>1</td>\n      <td>Bayview Village</td>\n      <td>1</td>\n    </tr>\n    <tr>\n      <th>M2L</th>\n      <td>2</td>\n      <td>1</td>\n      <td>North York</td>\n      <td>2</td>\n      <td>2</td>\n      <td>2</td>\n      <td>Silver Hills</td>\n      <td>1</td>\n    </tr>\n    <tr>\n      <th>M2M</th>\n      <td>2</td>\n      <td>1</td>\n      <td>North York</td>\n      <td>2</td>\n      <td>2</td>\n      <td>2</td>\n      <td>Willowdale</td>\n      <td>1</td>\n    </tr>\n    <tr>\n      <th>M2N</th>\n      <td>1</td>\n      <td>1</td>\n      <td>North York</td>\n      <td>1</td>\n      <td>1</td>\n      <td>1</td>\n      <td>Willowdale South</td>\n      <td>1</td>\n    </tr>\n    <tr>\n      <th>M2P</th>\n      <td>1</td>\n      <td>1</td>\n      <td>North York</td>\n      <td>1</td>\n      <td>1</td>\n      <td>1</td>\n      <td>York Mills West</td>\n      <td>1</td>\n    </tr>\n    <tr>\n      <th>M2R</th>\n      <td>1</td>\n      <td>1</td>\n      <td>North York</td>\n      <td>1</td>\n      <td>1</td>\n      <td>1</td>\n      <td>Willowdale West</td>\n      <td>1</td>\n    </tr>\n    <tr>\n      <th>M3A</th>\n      <td>1</td>\n      <td>1</td>\n      <td>North York</td>\n      <td>1</td>\n      <td>1</td>\n      <td>1</td>\n      <td>Parkwoods</td>\n      <td>1</td>\n    </tr>\n    <tr>\n      <th>M3B</th>\n      <td>1</td>\n      <td>1</td>\n      <td>North York</td>\n      <td>1</td>\n      <td>1</td>\n      <td>1</td>\n      <td>Don Mills North</td>\n      <td>1</td>\n    </tr>\n    <tr>\n      <th>M3C</th>\n      <td>2</td>\n      <td>1</td>\n      <td>North York</td>\n      <td>2</td>\n      <td>2</td>\n      <td>2</td>\n      <td>Don Mills South</td>\n      <td>1</td>\n    </tr>\n    <tr>\n      <th>M3H</th>\n      <td>3</td>\n      <td>1</td>\n      <td>North York</td>\n      <td>3</td>\n      <td>3</td>\n      <td>3</td>\n      <td>Downsview North</td>\n      <td>1</td>\n    </tr>\n    <tr>\n      <th>M3J</th>\n      <td>2</td>\n      <td>1</td>\n      <td>North York</td>\n      <td>2</td>\n      <td>2</td>\n      <td>2</td>\n      <td>York University</td>\n      <td>1</td>\n    </tr>\n    <tr>\n      <th>...</th>\n      <td>...</td>\n      <td>...</td>\n      <td>...</td>\n      <td>...</td>\n      <td>...</td>\n      <td>...</td>\n      <td>...</td>\n      <td>...</td>\n    </tr>\n    <tr>\n      <th>M6C</th>\n      <td>1</td>\n      <td>1</td>\n      <td>York</td>\n      <td>1</td>\n      <td>1</td>\n      <td>1</td>\n      <td>Humewood-Cedarvale</td>\n      <td>1</td>\n    </tr>\n    <tr>\n      <th>M6E</th>\n      <td>1</td>\n      <td>1</td>\n      <td>York</td>\n      <td>1</td>\n      <td>1</td>\n      <td>1</td>\n      <td>Caledonia-Fairbanks</td>\n      <td>1</td>\n    </tr>\n    <tr>\n      <th>M6G</th>\n      <td>1</td>\n      <td>1</td>\n      <td>Downtown Toronto</td>\n      <td>1</td>\n      <td>1</td>\n      <td>1</td>\n      <td>Christie</td>\n      <td>1</td>\n    </tr>\n    <tr>\n      <th>M6H</th>\n      <td>2</td>\n      <td>1</td>\n      <td>West Toronto</td>\n      <td>2</td>\n      <td>2</td>\n      <td>2</td>\n      <td>Dovercourt Village</td>\n      <td>1</td>\n    </tr>\n    <tr>\n      <th>M6J</th>\n      <td>2</td>\n      <td>1</td>\n      <td>West Toronto</td>\n      <td>2</td>\n      <td>2</td>\n      <td>2</td>\n      <td>Trinity</td>\n      <td>1</td>\n    </tr>\n    <tr>\n      <th>M6K</th>\n      <td>3</td>\n      <td>1</td>\n      <td>West Toronto</td>\n      <td>3</td>\n      <td>3</td>\n      <td>3</td>\n      <td>Exhibition Place</td>\n      <td>1</td>\n    </tr>\n    <tr>\n      <th>M6L</th>\n      <td>3</td>\n      <td>1</td>\n      <td>North York</td>\n      <td>3</td>\n      <td>3</td>\n      <td>3</td>\n      <td>Downsview</td>\n      <td>1</td>\n    </tr>\n    <tr>\n      <th>M6M</th>\n      <td>4</td>\n      <td>1</td>\n      <td>York</td>\n      <td>4</td>\n      <td>4</td>\n      <td>4</td>\n      <td>Keelesdale</td>\n      <td>1</td>\n    </tr>\n    <tr>\n      <th>M6N</th>\n      <td>2</td>\n      <td>1</td>\n      <td>York</td>\n      <td>2</td>\n      <td>2</td>\n      <td>2</td>\n      <td>Runnymede</td>\n      <td>1</td>\n    </tr>\n    <tr>\n      <th>M6P</th>\n      <td>2</td>\n      <td>1</td>\n      <td>West Toronto</td>\n      <td>2</td>\n      <td>2</td>\n      <td>2</td>\n      <td>The Junction South</td>\n      <td>1</td>\n    </tr>\n    <tr>\n      <th>M6R</th>\n      <td>2</td>\n      <td>1</td>\n      <td>West Toronto</td>\n      <td>2</td>\n      <td>2</td>\n      <td>2</td>\n      <td>Parkdale</td>\n      <td>1</td>\n    </tr>\n    <tr>\n      <th>M6S</th>\n      <td>2</td>\n      <td>1</td>\n      <td>West Toronto</td>\n      <td>2</td>\n      <td>2</td>\n      <td>2</td>\n      <td>Runnymede</td>\n      <td>1</td>\n    </tr>\n    <tr>\n      <th>M7A</th>\n      <td>1</td>\n      <td>1</td>\n      <td>Downtown Toronto</td>\n      <td>1</td>\n      <td>1</td>\n      <td>1</td>\n      <td>Queen's Park</td>\n      <td>1</td>\n    </tr>\n    <tr>\n      <th>M7R</th>\n      <td>1</td>\n      <td>1</td>\n      <td>Mississauga</td>\n      <td>1</td>\n      <td>1</td>\n      <td>1</td>\n      <td>Canada Post Gateway Processing Centre</td>\n      <td>1</td>\n    </tr>\n    <tr>\n      <th>M7Y</th>\n      <td>1</td>\n      <td>1</td>\n      <td>East Toronto</td>\n      <td>1</td>\n      <td>1</td>\n      <td>1</td>\n      <td>Business Reply Mail Processing Centre 969 Eastern</td>\n      <td>1</td>\n    </tr>\n    <tr>\n      <th>M8V</th>\n      <td>3</td>\n      <td>1</td>\n      <td>Etobicoke</td>\n      <td>3</td>\n      <td>3</td>\n      <td>3</td>\n      <td>New Toronto</td>\n      <td>1</td>\n    </tr>\n    <tr>\n      <th>M8W</th>\n      <td>2</td>\n      <td>1</td>\n      <td>Etobicoke</td>\n      <td>2</td>\n      <td>2</td>\n      <td>2</td>\n      <td>Long Branch</td>\n      <td>1</td>\n    </tr>\n    <tr>\n      <th>M8X</th>\n      <td>3</td>\n      <td>1</td>\n      <td>Etobicoke</td>\n      <td>3</td>\n      <td>3</td>\n      <td>3</td>\n      <td>Old Mill North</td>\n      <td>1</td>\n    </tr>\n    <tr>\n      <th>M8Y</th>\n      <td>8</td>\n      <td>1</td>\n      <td>Etobicoke</td>\n      <td>8</td>\n      <td>8</td>\n      <td>8</td>\n      <td>Mimico NE</td>\n      <td>1</td>\n    </tr>\n    <tr>\n      <th>M8Z</th>\n      <td>5</td>\n      <td>1</td>\n      <td>Etobicoke</td>\n      <td>5</td>\n      <td>5</td>\n      <td>5</td>\n      <td>The Queensway West</td>\n      <td>1</td>\n    </tr>\n    <tr>\n      <th>M9A</th>\n      <td>1</td>\n      <td>1</td>\n      <td>Queen's Park</td>\n      <td>1</td>\n      <td>1</td>\n      <td>1</td>\n      <td>Not assigned</td>\n      <td>1</td>\n    </tr>\n    <tr>\n      <th>M9B</th>\n      <td>5</td>\n      <td>1</td>\n      <td>Etobicoke</td>\n      <td>5</td>\n      <td>5</td>\n      <td>5</td>\n      <td>Martin Grove</td>\n      <td>1</td>\n    </tr>\n    <tr>\n      <th>M9C</th>\n      <td>4</td>\n      <td>1</td>\n      <td>Etobicoke</td>\n      <td>4</td>\n      <td>4</td>\n      <td>4</td>\n      <td>Eringate</td>\n      <td>1</td>\n    </tr>\n    <tr>\n      <th>M9L</th>\n      <td>1</td>\n      <td>1</td>\n      <td>North York</td>\n      <td>1</td>\n      <td>1</td>\n      <td>1</td>\n      <td>Humber Summit</td>\n      <td>1</td>\n    </tr>\n    <tr>\n      <th>M9M</th>\n      <td>2</td>\n      <td>1</td>\n      <td>North York</td>\n      <td>2</td>\n      <td>2</td>\n      <td>2</td>\n      <td>Emery</td>\n      <td>1</td>\n    </tr>\n    <tr>\n      <th>M9N</th>\n      <td>1</td>\n      <td>1</td>\n      <td>York</td>\n      <td>1</td>\n      <td>1</td>\n      <td>1</td>\n      <td>Weston</td>\n      <td>1</td>\n    </tr>\n    <tr>\n      <th>M9P</th>\n      <td>1</td>\n      <td>1</td>\n      <td>Etobicoke</td>\n      <td>1</td>\n      <td>1</td>\n      <td>1</td>\n      <td>Westmount</td>\n      <td>1</td>\n    </tr>\n    <tr>\n      <th>M9R</th>\n      <td>4</td>\n      <td>1</td>\n      <td>Etobicoke</td>\n      <td>4</td>\n      <td>4</td>\n      <td>4</td>\n      <td>Martin Grove Gardens</td>\n      <td>1</td>\n    </tr>\n    <tr>\n      <th>M9V</th>\n      <td>8</td>\n      <td>1</td>\n      <td>Etobicoke</td>\n      <td>8</td>\n      <td>8</td>\n      <td>8</td>\n      <td>Mount Olive</td>\n      <td>1</td>\n    </tr>\n    <tr>\n      <th>M9W</th>\n      <td>1</td>\n      <td>1</td>\n      <td>Etobicoke</td>\n      <td>1</td>\n      <td>1</td>\n      <td>1</td>\n      <td>Northwest</td>\n      <td>1</td>\n    </tr>\n  </tbody>\n</table>\n<p>103 rows \u00d7 8 columns</p>\n</div>",
                        "text/plain": "         Borough                               Neighbourhood         \\\n           count unique               top freq         count unique   \nPostcode                                                              \nM1B            2      1       Scarborough    2             2      2   \nM1C            3      1       Scarborough    3             3      3   \nM1E            3      1       Scarborough    3             3      3   \nM1G            1      1       Scarborough    1             1      1   \nM1H            1      1       Scarborough    1             1      1   \nM1J            1      1       Scarborough    1             1      1   \nM1K            3      1       Scarborough    3             3      3   \nM1L            3      1       Scarborough    3             3      3   \nM1M            3      1       Scarborough    3             3      3   \nM1N            2      1       Scarborough    2             2      2   \nM1P            3      1       Scarborough    3             3      3   \nM1R            2      1       Scarborough    2             2      2   \nM1S            1      1       Scarborough    1             1      1   \nM1T            3      1       Scarborough    3             3      3   \nM1V            4      1       Scarborough    4             4      4   \nM1W            1      1       Scarborough    1             1      1   \nM1X            1      1       Scarborough    1             1      1   \nM2H            1      1        North York    1             1      1   \nM2J            3      1        North York    3             3      3   \nM2K            1      1        North York    1             1      1   \nM2L            2      1        North York    2             2      2   \nM2M            2      1        North York    2             2      2   \nM2N            1      1        North York    1             1      1   \nM2P            1      1        North York    1             1      1   \nM2R            1      1        North York    1             1      1   \nM3A            1      1        North York    1             1      1   \nM3B            1      1        North York    1             1      1   \nM3C            2      1        North York    2             2      2   \nM3H            3      1        North York    3             3      3   \nM3J            2      1        North York    2             2      2   \n...          ...    ...               ...  ...           ...    ...   \nM6C            1      1              York    1             1      1   \nM6E            1      1              York    1             1      1   \nM6G            1      1  Downtown Toronto    1             1      1   \nM6H            2      1      West Toronto    2             2      2   \nM6J            2      1      West Toronto    2             2      2   \nM6K            3      1      West Toronto    3             3      3   \nM6L            3      1        North York    3             3      3   \nM6M            4      1              York    4             4      4   \nM6N            2      1              York    2             2      2   \nM6P            2      1      West Toronto    2             2      2   \nM6R            2      1      West Toronto    2             2      2   \nM6S            2      1      West Toronto    2             2      2   \nM7A            1      1  Downtown Toronto    1             1      1   \nM7R            1      1       Mississauga    1             1      1   \nM7Y            1      1      East Toronto    1             1      1   \nM8V            3      1         Etobicoke    3             3      3   \nM8W            2      1         Etobicoke    2             2      2   \nM8X            3      1         Etobicoke    3             3      3   \nM8Y            8      1         Etobicoke    8             8      8   \nM8Z            5      1         Etobicoke    5             5      5   \nM9A            1      1      Queen's Park    1             1      1   \nM9B            5      1         Etobicoke    5             5      5   \nM9C            4      1         Etobicoke    4             4      4   \nM9L            1      1        North York    1             1      1   \nM9M            2      1        North York    2             2      2   \nM9N            1      1              York    1             1      1   \nM9P            1      1         Etobicoke    1             1      1   \nM9R            4      1         Etobicoke    4             4      4   \nM9V            8      1         Etobicoke    8             8      8   \nM9W            1      1         Etobicoke    1             1      1   \n\n                                                                  \n                                                        top freq  \nPostcode                                                          \nM1B                                                 Malvern    1  \nM1C                                              Rouge Hill    1  \nM1E                                               West Hill    1  \nM1G                                                  Woburn    1  \nM1H                                               Cedarbrae    1  \nM1J                                     Scarborough Village    1  \nM1K                                            Kennedy Park    1  \nM1L                                             Golden Mile    1  \nM1M                                Scarborough Village West    1  \nM1N                                          Cliffside West    1  \nM1P                                             Dorset Park    1  \nM1R                                                Maryvale    1  \nM1S                                               Agincourt    1  \nM1T                                                Sullivan    1  \nM1V                                            Steeles East    1  \nM1W                                         L'Amoreaux West    1  \nM1X                                             Upper Rouge    1  \nM2H                                       Hillcrest Village    1  \nM2J                                              Henry Farm    1  \nM2K                                         Bayview Village    1  \nM2L                                            Silver Hills    1  \nM2M                                              Willowdale    1  \nM2N                                        Willowdale South    1  \nM2P                                         York Mills West    1  \nM2R                                         Willowdale West    1  \nM3A                                               Parkwoods    1  \nM3B                                         Don Mills North    1  \nM3C                                         Don Mills South    1  \nM3H                                         Downsview North    1  \nM3J                                         York University    1  \n...                                                     ...  ...  \nM6C                                      Humewood-Cedarvale    1  \nM6E                                     Caledonia-Fairbanks    1  \nM6G                                                Christie    1  \nM6H                                      Dovercourt Village    1  \nM6J                                                 Trinity    1  \nM6K                                        Exhibition Place    1  \nM6L                                               Downsview    1  \nM6M                                              Keelesdale    1  \nM6N                                               Runnymede    1  \nM6P                                      The Junction South    1  \nM6R                                                Parkdale    1  \nM6S                                               Runnymede    1  \nM7A                                            Queen's Park    1  \nM7R                   Canada Post Gateway Processing Centre    1  \nM7Y       Business Reply Mail Processing Centre 969 Eastern    1  \nM8V                                             New Toronto    1  \nM8W                                             Long Branch    1  \nM8X                                          Old Mill North    1  \nM8Y                                               Mimico NE    1  \nM8Z                                      The Queensway West    1  \nM9A                                            Not assigned    1  \nM9B                                            Martin Grove    1  \nM9C                                                Eringate    1  \nM9L                                           Humber Summit    1  \nM9M                                                   Emery    1  \nM9N                                                  Weston    1  \nM9P                                               Westmount    1  \nM9R                                    Martin Grove Gardens    1  \nM9V                                             Mount Olive    1  \nM9W                                               Northwest    1  \n\n[103 rows x 8 columns]"
                    },
                    "execution_count": 10,
                    "metadata": {},
                    "output_type": "execute_result"
                }
            ],
            "source": "df.groupby('Postcode').describe()"
        },
        {
            "cell_type": "markdown",
            "metadata": {},
            "source": "check how many Neighbourhoods available for Postcode=M5A"
        },
        {
            "cell_type": "code",
            "execution_count": 11,
            "metadata": {},
            "outputs": [
                {
                    "data": {
                        "text/plain": "array(['Harbourfront'], dtype=object)"
                    },
                    "execution_count": 11,
                    "metadata": {},
                    "output_type": "execute_result"
                }
            ],
            "source": "df.groupby('Postcode')['Neighbourhood'].unique()['M5A']"
        },
        {
            "cell_type": "markdown",
            "metadata": {},
            "source": "only one Neighbourhood is available but in assignment guidelines it says there will be 2.  \nfurther check for Neighbourhood='Regent Park' in the dataset"
        },
        {
            "cell_type": "code",
            "execution_count": 12,
            "metadata": {},
            "outputs": [
                {
                    "data": {
                        "text/html": "<div>\n<style scoped>\n    .dataframe tbody tr th:only-of-type {\n        vertical-align: middle;\n    }\n\n    .dataframe tbody tr th {\n        vertical-align: top;\n    }\n\n    .dataframe thead th {\n        text-align: right;\n    }\n</style>\n<table border=\"1\" class=\"dataframe\">\n  <thead>\n    <tr style=\"text-align: right;\">\n      <th></th>\n      <th>Postcode</th>\n      <th>Borough</th>\n      <th>Neighbourhood</th>\n    </tr>\n  </thead>\n  <tbody>\n  </tbody>\n</table>\n</div>",
                        "text/plain": "Empty DataFrame\nColumns: [Postcode, Borough, Neighbourhood]\nIndex: []"
                    },
                    "execution_count": 12,
                    "metadata": {},
                    "output_type": "execute_result"
                }
            ],
            "source": "df[df['Neighbourhood']=='Regent Park']"
        },
        {
            "cell_type": "markdown",
            "metadata": {},
            "source": "Eventhough in assignment guide lines it says that \"M5A is listed twice and has two neighborhoods: Harbourfront and Regent Park.\" actually our downloaded data set does not have Neighbourhood call 'Regent Park', so we can assume the data has been updated recently"
        },
        {
            "cell_type": "code",
            "execution_count": 13,
            "metadata": {},
            "outputs": [
                {
                    "data": {
                        "text/plain": "Postcode\nM1B                            [Rouge, Malvern]\nM1C    [Highland Creek, Rouge Hill, Port Union]\nM1E         [Guildwood, Morningside, West Hill]\nM1G                                    [Woburn]\nM1H                                 [Cedarbrae]\nName: Neighbourhood, dtype: object"
                    },
                    "execution_count": 13,
                    "metadata": {},
                    "output_type": "execute_result"
                }
            ],
            "source": "s1 = df.groupby('Postcode')['Neighbourhood'].unique() #get list of Neighbourhood against unique Postcode\ns1.head()"
        },
        {
            "cell_type": "code",
            "execution_count": 14,
            "metadata": {},
            "outputs": [
                {
                    "data": {
                        "text/plain": "Postcode\nM1B    [Scarborough]\nM1C    [Scarborough]\nM1E    [Scarborough]\nM1G    [Scarborough]\nM1H    [Scarborough]\nName: Borough, dtype: object"
                    },
                    "execution_count": 14,
                    "metadata": {},
                    "output_type": "execute_result"
                }
            ],
            "source": "s2 = df.groupby('Postcode')['Borough'].unique() ##get Borough against unique Postcode\ns2.head()"
        },
        {
            "cell_type": "code",
            "execution_count": 15,
            "metadata": {},
            "outputs": [],
            "source": "df_combined = pd.concat([s2, s1], axis=1)"
        },
        {
            "cell_type": "code",
            "execution_count": 16,
            "metadata": {},
            "outputs": [],
            "source": "df_combined.reset_index(inplace=True) #reset_index will remove Postcode from index and make it a column"
        },
        {
            "cell_type": "code",
            "execution_count": 17,
            "metadata": {},
            "outputs": [
                {
                    "data": {
                        "text/html": "<div>\n<style scoped>\n    .dataframe tbody tr th:only-of-type {\n        vertical-align: middle;\n    }\n\n    .dataframe tbody tr th {\n        vertical-align: top;\n    }\n\n    .dataframe thead th {\n        text-align: right;\n    }\n</style>\n<table border=\"1\" class=\"dataframe\">\n  <thead>\n    <tr style=\"text-align: right;\">\n      <th></th>\n      <th>Postcode</th>\n      <th>Borough</th>\n      <th>Neighbourhood</th>\n    </tr>\n  </thead>\n  <tbody>\n    <tr>\n      <th>0</th>\n      <td>M1B</td>\n      <td>[Scarborough]</td>\n      <td>[Rouge, Malvern]</td>\n    </tr>\n    <tr>\n      <th>1</th>\n      <td>M1C</td>\n      <td>[Scarborough]</td>\n      <td>[Highland Creek, Rouge Hill, Port Union]</td>\n    </tr>\n    <tr>\n      <th>2</th>\n      <td>M1E</td>\n      <td>[Scarborough]</td>\n      <td>[Guildwood, Morningside, West Hill]</td>\n    </tr>\n    <tr>\n      <th>3</th>\n      <td>M1G</td>\n      <td>[Scarborough]</td>\n      <td>[Woburn]</td>\n    </tr>\n    <tr>\n      <th>4</th>\n      <td>M1H</td>\n      <td>[Scarborough]</td>\n      <td>[Cedarbrae]</td>\n    </tr>\n  </tbody>\n</table>\n</div>",
                        "text/plain": "  Postcode        Borough                             Neighbourhood\n0      M1B  [Scarborough]                          [Rouge, Malvern]\n1      M1C  [Scarborough]  [Highland Creek, Rouge Hill, Port Union]\n2      M1E  [Scarborough]       [Guildwood, Morningside, West Hill]\n3      M1G  [Scarborough]                                  [Woburn]\n4      M1H  [Scarborough]                               [Cedarbrae]"
                    },
                    "execution_count": 17,
                    "metadata": {},
                    "output_type": "execute_result"
                }
            ],
            "source": "df_combined.head()"
        },
        {
            "cell_type": "markdown",
            "metadata": {},
            "source": "Now we have got combined Borough and Neighbourhood against each unique Postcode.  \nHowever, still we need to remove bracets in each field"
        },
        {
            "cell_type": "code",
            "execution_count": 18,
            "metadata": {},
            "outputs": [
                {
                    "data": {
                        "text/html": "<div>\n<style scoped>\n    .dataframe tbody tr th:only-of-type {\n        vertical-align: middle;\n    }\n\n    .dataframe tbody tr th {\n        vertical-align: top;\n    }\n\n    .dataframe thead th {\n        text-align: right;\n    }\n</style>\n<table border=\"1\" class=\"dataframe\">\n  <thead>\n    <tr style=\"text-align: right;\">\n      <th></th>\n      <th>Postcode</th>\n      <th>Borough</th>\n      <th>Neighbourhood</th>\n    </tr>\n  </thead>\n  <tbody>\n    <tr>\n      <th>0</th>\n      <td>M1B</td>\n      <td>[Scarborough]</td>\n      <td>[Rouge, Malvern]</td>\n    </tr>\n    <tr>\n      <th>1</th>\n      <td>M1C</td>\n      <td>[Scarborough]</td>\n      <td>[Highland Creek, Rouge Hill, Port Union]</td>\n    </tr>\n    <tr>\n      <th>2</th>\n      <td>M1E</td>\n      <td>[Scarborough]</td>\n      <td>[Guildwood, Morningside, West Hill]</td>\n    </tr>\n    <tr>\n      <th>3</th>\n      <td>M1G</td>\n      <td>[Scarborough]</td>\n      <td>[Woburn]</td>\n    </tr>\n    <tr>\n      <th>4</th>\n      <td>M1H</td>\n      <td>[Scarborough]</td>\n      <td>[Cedarbrae]</td>\n    </tr>\n  </tbody>\n</table>\n</div>",
                        "text/plain": "  Postcode        Borough                             Neighbourhood\n0      M1B  [Scarborough]                          [Rouge, Malvern]\n1      M1C  [Scarborough]  [Highland Creek, Rouge Hill, Port Union]\n2      M1E  [Scarborough]       [Guildwood, Morningside, West Hill]\n3      M1G  [Scarborough]                                  [Woburn]\n4      M1H  [Scarborough]                               [Cedarbrae]"
                    },
                    "execution_count": 18,
                    "metadata": {},
                    "output_type": "execute_result"
                }
            ],
            "source": "df_combined.head()"
        },
        {
            "cell_type": "code",
            "execution_count": 19,
            "metadata": {},
            "outputs": [],
            "source": "#','.join(map(str,[10,\"test\",10.5]))"
        },
        {
            "cell_type": "code",
            "execution_count": 20,
            "metadata": {},
            "outputs": [],
            "source": "#df_combined.applymap(lambda x: ','.join(map(str,x)) if np.where(df_combined.values==x)[1] in [1,2] else x)"
        },
        {
            "cell_type": "markdown",
            "metadata": {},
            "source": "apply below lambda function to 'Brough' and 'Neighbourhood' to make each element to a string"
        },
        {
            "cell_type": "code",
            "execution_count": 21,
            "metadata": {},
            "outputs": [],
            "source": "df_combined['Borough']=df_combined['Borough'].apply(lambda x: ','.join(map(str,x)))\ndf_combined['Neighbourhood']=df_combined['Neighbourhood'].apply(lambda x: ','.join(map(str,x)))"
        },
        {
            "cell_type": "code",
            "execution_count": 22,
            "metadata": {},
            "outputs": [
                {
                    "data": {
                        "text/html": "<div>\n<style scoped>\n    .dataframe tbody tr th:only-of-type {\n        vertical-align: middle;\n    }\n\n    .dataframe tbody tr th {\n        vertical-align: top;\n    }\n\n    .dataframe thead th {\n        text-align: right;\n    }\n</style>\n<table border=\"1\" class=\"dataframe\">\n  <thead>\n    <tr style=\"text-align: right;\">\n      <th></th>\n      <th>Postcode</th>\n      <th>Borough</th>\n      <th>Neighbourhood</th>\n    </tr>\n  </thead>\n  <tbody>\n    <tr>\n      <th>98</th>\n      <td>M9N</td>\n      <td>York</td>\n      <td>Weston</td>\n    </tr>\n    <tr>\n      <th>99</th>\n      <td>M9P</td>\n      <td>Etobicoke</td>\n      <td>Westmount</td>\n    </tr>\n    <tr>\n      <th>100</th>\n      <td>M9R</td>\n      <td>Etobicoke</td>\n      <td>Kingsview Village,Martin Grove Gardens,Richvie...</td>\n    </tr>\n    <tr>\n      <th>101</th>\n      <td>M9V</td>\n      <td>Etobicoke</td>\n      <td>Albion Gardens,Beaumond Heights,Humbergate,Jam...</td>\n    </tr>\n    <tr>\n      <th>102</th>\n      <td>M9W</td>\n      <td>Etobicoke</td>\n      <td>Northwest</td>\n    </tr>\n  </tbody>\n</table>\n</div>",
                        "text/plain": "    Postcode    Borough                                      Neighbourhood\n98       M9N       York                                             Weston\n99       M9P  Etobicoke                                          Westmount\n100      M9R  Etobicoke  Kingsview Village,Martin Grove Gardens,Richvie...\n101      M9V  Etobicoke  Albion Gardens,Beaumond Heights,Humbergate,Jam...\n102      M9W  Etobicoke                                          Northwest"
                    },
                    "execution_count": 22,
                    "metadata": {},
                    "output_type": "execute_result"
                }
            ],
            "source": "df_combined.tail()"
        },
        {
            "cell_type": "code",
            "execution_count": 23,
            "metadata": {},
            "outputs": [
                {
                    "data": {
                        "text/plain": "(103, 3)"
                    },
                    "execution_count": 23,
                    "metadata": {},
                    "output_type": "execute_result"
                }
            ],
            "source": "df_combined.shape"
        },
        {
            "cell_type": "code",
            "execution_count": null,
            "metadata": {},
            "outputs": [],
            "source": ""
        }
    ],
    "metadata": {
        "kernelspec": {
            "display_name": "Python 3.6",
            "language": "python",
            "name": "python3"
        },
        "language_info": {
            "codemirror_mode": {
                "name": "ipython",
                "version": 3
            },
            "file_extension": ".py",
            "mimetype": "text/x-python",
            "name": "python",
            "nbconvert_exporter": "python",
            "pygments_lexer": "ipython3",
            "version": "3.6.9"
        }
    },
    "nbformat": 4,
    "nbformat_minor": 1
}